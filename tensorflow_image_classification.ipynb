{
  "nbformat": 4,
  "nbformat_minor": 0,
  "metadata": {
    "colab": {
      "name": "Untitled2.ipynb",
      "provenance": [],
      "include_colab_link": true
    },
    "kernelspec": {
      "name": "python3",
      "display_name": "Python 3"
    }
  },
  "cells": [
    {
      "cell_type": "markdown",
      "metadata": {
        "id": "view-in-github",
        "colab_type": "text"
      },
      "source": [
        "<a href=\"https://colab.research.google.com/github/SudarshanSaikia/Tensorflow-image-classification/blob/master/tensorflow_image_classification.ipynb\" target=\"_parent\"><img src=\"https://colab.research.google.com/assets/colab-badge.svg\" alt=\"Open In Colab\"/></a>"
      ]
    },
    {
      "cell_type": "code",
      "metadata": {
        "id": "QSSYnLWHUBS_",
        "colab_type": "code",
        "colab": {
          "base_uri": "https://localhost:8080/",
          "height": 558
        },
        "outputId": "ae53d342-ad7c-4ddd-fefa-0bdb3687e504"
      },
      "source": [
        "!pip install tensorflow==2.0.0-beta1"
      ],
      "execution_count": 3,
      "outputs": [
        {
          "output_type": "stream",
          "text": [
            "Collecting tensorflow==2.0.0-beta1\n",
            "\u001b[?25l  Downloading https://files.pythonhosted.org/packages/29/6c/2c9a5c4d095c63c2fb37d20def0e4f92685f7aee9243d6aae25862694fd1/tensorflow-2.0.0b1-cp36-cp36m-manylinux1_x86_64.whl (87.9MB)\n",
            "\u001b[K     |████████████████████████████████| 87.9MB 29.3MB/s \n",
            "\u001b[?25hRequirement already satisfied: absl-py>=0.7.0 in /usr/local/lib/python3.6/dist-packages (from tensorflow==2.0.0-beta1) (0.8.0)\n",
            "Requirement already satisfied: keras-preprocessing>=1.0.5 in /usr/local/lib/python3.6/dist-packages (from tensorflow==2.0.0-beta1) (1.1.0)\n",
            "Requirement already satisfied: wrapt>=1.11.1 in /usr/local/lib/python3.6/dist-packages (from tensorflow==2.0.0-beta1) (1.11.2)\n",
            "Requirement already satisfied: grpcio>=1.8.6 in /usr/local/lib/python3.6/dist-packages (from tensorflow==2.0.0-beta1) (1.15.0)\n",
            "Requirement already satisfied: termcolor>=1.1.0 in /usr/local/lib/python3.6/dist-packages (from tensorflow==2.0.0-beta1) (1.1.0)\n",
            "Requirement already satisfied: wheel>=0.26 in /usr/local/lib/python3.6/dist-packages (from tensorflow==2.0.0-beta1) (0.33.6)\n",
            "Requirement already satisfied: gast>=0.2.0 in /usr/local/lib/python3.6/dist-packages (from tensorflow==2.0.0-beta1) (0.2.2)\n",
            "Collecting tb-nightly<1.14.0a20190604,>=1.14.0a20190603 (from tensorflow==2.0.0-beta1)\n",
            "\u001b[?25l  Downloading https://files.pythonhosted.org/packages/a4/96/571b875cd81dda9d5dfa1422a4f9d749e67c0a8d4f4f0b33a4e5f5f35e27/tb_nightly-1.14.0a20190603-py3-none-any.whl (3.1MB)\n",
            "\u001b[K     |████████████████████████████████| 3.1MB 21.7MB/s \n",
            "\u001b[?25hRequirement already satisfied: astor>=0.6.0 in /usr/local/lib/python3.6/dist-packages (from tensorflow==2.0.0-beta1) (0.8.0)\n",
            "Requirement already satisfied: six>=1.10.0 in /usr/local/lib/python3.6/dist-packages (from tensorflow==2.0.0-beta1) (1.12.0)\n",
            "Collecting tf-estimator-nightly<1.14.0.dev2019060502,>=1.14.0.dev2019060501 (from tensorflow==2.0.0-beta1)\n",
            "\u001b[?25l  Downloading https://files.pythonhosted.org/packages/32/dd/99c47dd007dcf10d63fd895611b063732646f23059c618a373e85019eb0e/tf_estimator_nightly-1.14.0.dev2019060501-py2.py3-none-any.whl (496kB)\n",
            "\u001b[K     |████████████████████████████████| 501kB 44.7MB/s \n",
            "\u001b[?25hRequirement already satisfied: numpy<2.0,>=1.14.5 in /usr/local/lib/python3.6/dist-packages (from tensorflow==2.0.0-beta1) (1.16.5)\n",
            "Requirement already satisfied: keras-applications>=1.0.6 in /usr/local/lib/python3.6/dist-packages (from tensorflow==2.0.0-beta1) (1.0.8)\n",
            "Requirement already satisfied: protobuf>=3.6.1 in /usr/local/lib/python3.6/dist-packages (from tensorflow==2.0.0-beta1) (3.7.1)\n",
            "Requirement already satisfied: google-pasta>=0.1.6 in /usr/local/lib/python3.6/dist-packages (from tensorflow==2.0.0-beta1) (0.1.7)\n",
            "Requirement already satisfied: setuptools>=41.0.0 in /usr/local/lib/python3.6/dist-packages (from tb-nightly<1.14.0a20190604,>=1.14.0a20190603->tensorflow==2.0.0-beta1) (41.2.0)\n",
            "Requirement already satisfied: markdown>=2.6.8 in /usr/local/lib/python3.6/dist-packages (from tb-nightly<1.14.0a20190604,>=1.14.0a20190603->tensorflow==2.0.0-beta1) (3.1.1)\n",
            "Requirement already satisfied: werkzeug>=0.11.15 in /usr/local/lib/python3.6/dist-packages (from tb-nightly<1.14.0a20190604,>=1.14.0a20190603->tensorflow==2.0.0-beta1) (0.15.6)\n",
            "Requirement already satisfied: h5py in /usr/local/lib/python3.6/dist-packages (from keras-applications>=1.0.6->tensorflow==2.0.0-beta1) (2.8.0)\n",
            "Installing collected packages: tb-nightly, tf-estimator-nightly, tensorflow\n",
            "  Found existing installation: tensorflow 1.14.0\n",
            "    Uninstalling tensorflow-1.14.0:\n",
            "      Successfully uninstalled tensorflow-1.14.0\n",
            "Successfully installed tb-nightly-1.14.0a20190603 tensorflow-2.0.0b1 tf-estimator-nightly-1.14.0.dev2019060501\n"
          ],
          "name": "stdout"
        }
      ]
    },
    {
      "cell_type": "code",
      "metadata": {
        "id": "R3_CI4AjUkiV",
        "colab_type": "code",
        "colab": {
          "base_uri": "https://localhost:8080/",
          "height": 34
        },
        "outputId": "376b7a7a-458b-40da-becd-8f2e16476c1c"
      },
      "source": [
        "from __future__ import absolute_import,division,print_function,unicode_literals\n",
        "\n",
        "import tensorflow as tf\n",
        "from tensorflow import keras\n",
        "import numpy as np\n",
        "import matplotlib.pyplot as plt\n",
        "\n",
        "print(tf.__version__)"
      ],
      "execution_count": 6,
      "outputs": [
        {
          "output_type": "stream",
          "text": [
            "2.0.0-beta1\n"
          ],
          "name": "stdout"
        }
      ]
    },
    {
      "cell_type": "code",
      "metadata": {
        "id": "lKE-8OYPVQD6",
        "colab_type": "code",
        "colab": {
          "base_uri": "https://localhost:8080/",
          "height": 151
        },
        "outputId": "8a9b3954-c36d-414e-d611-b3abf430d0a3"
      },
      "source": [
        "fashion_mnist= keras.datasets.fashion_mnist\n",
        "\n",
        "(train_images,train_labels),(test_images, test_labels)=fashion_mnist.load_data()"
      ],
      "execution_count": 7,
      "outputs": [
        {
          "output_type": "stream",
          "text": [
            "Downloading data from https://storage.googleapis.com/tensorflow/tf-keras-datasets/train-labels-idx1-ubyte.gz\n",
            "32768/29515 [=================================] - 0s 0us/step\n",
            "Downloading data from https://storage.googleapis.com/tensorflow/tf-keras-datasets/train-images-idx3-ubyte.gz\n",
            "26427392/26421880 [==============================] - 0s 0us/step\n",
            "Downloading data from https://storage.googleapis.com/tensorflow/tf-keras-datasets/t10k-labels-idx1-ubyte.gz\n",
            "8192/5148 [===============================================] - 0s 0us/step\n",
            "Downloading data from https://storage.googleapis.com/tensorflow/tf-keras-datasets/t10k-images-idx3-ubyte.gz\n",
            "4423680/4422102 [==============================] - 0s 0us/step\n"
          ],
          "name": "stdout"
        }
      ]
    },
    {
      "cell_type": "code",
      "metadata": {
        "id": "QkbsM9woWcUC",
        "colab_type": "code",
        "colab": {}
      },
      "source": [
        "class_names= ['T-shirts/top','Trouser','Pullover','Dress','Coat','Sandal','Shirt','Sneaker','Bag','Ankle boot']"
      ],
      "execution_count": 0,
      "outputs": []
    },
    {
      "cell_type": "code",
      "metadata": {
        "id": "3CAww_H2XJX6",
        "colab_type": "code",
        "colab": {
          "base_uri": "https://localhost:8080/",
          "height": 34
        },
        "outputId": "2de5107d-69c7-4c37-a9f1-4cdfbeef556a"
      },
      "source": [
        "train_images.shape"
      ],
      "execution_count": 9,
      "outputs": [
        {
          "output_type": "execute_result",
          "data": {
            "text/plain": [
              "(60000, 28, 28)"
            ]
          },
          "metadata": {
            "tags": []
          },
          "execution_count": 9
        }
      ]
    },
    {
      "cell_type": "code",
      "metadata": {
        "id": "wJgBq29VXV8y",
        "colab_type": "code",
        "colab": {
          "base_uri": "https://localhost:8080/",
          "height": 34
        },
        "outputId": "67945792-0294-49a0-eea9-26969f18ed6c"
      },
      "source": [
        "train_labels"
      ],
      "execution_count": 10,
      "outputs": [
        {
          "output_type": "execute_result",
          "data": {
            "text/plain": [
              "array([9, 0, 0, ..., 3, 0, 5], dtype=uint8)"
            ]
          },
          "metadata": {
            "tags": []
          },
          "execution_count": 10
        }
      ]
    },
    {
      "cell_type": "code",
      "metadata": {
        "id": "gt8yeVUxXpfh",
        "colab_type": "code",
        "colab": {
          "base_uri": "https://localhost:8080/",
          "height": 269
        },
        "outputId": "7da5a3b5-936e-4815-dc49-86d4893c04c4"
      },
      "source": [
        "plt.figure()\n",
        "plt.imshow(train_images[0])\n",
        "plt.grid(False)\n",
        "plt.show()"
      ],
      "execution_count": 11,
      "outputs": [
        {
          "output_type": "display_data",
          "data": {
            "image/png": "[encoded data removed]",
            "text/plain": [
              "<Figure size 432x288 with 1 Axes>"
            ]
          },
          "metadata": {
            "tags": []
          }
        }
      ]
    },
    {
      "cell_type": "code",
      "metadata": {
        "id": "-5rdpCL0gZSN",
        "colab_type": "code",
        "colab": {}
      },
      "source": [
        "train_images= train_images/255.0\n",
        "test_images= test_images/ 255.0"
      ],
      "execution_count": 0,
      "outputs": []
    },
    {
      "cell_type": "code",
      "metadata": {
        "id": "UZ1yFyPehiM1",
        "colab_type": "code",
        "colab": {}
      },
      "source": [
        "model= keras.Sequential([\n",
        "    keras.layers.Flatten(input_shape=(28,28)),\n",
        "    keras.layers.Dense(128, activation= 'relu'),\n",
        "    keras.layers.Dense(10,activation= 'softmax')\n",
        "])"
      ],
      "execution_count": 0,
      "outputs": []
    },
    {
      "cell_type": "code",
      "metadata": {
        "id": "7HzoiVbxlBnD",
        "colab_type": "code",
        "colab": {}
      },
      "source": [
        "model.compile(optimizer='adam',\n",
        "             loss='sparse_categorical_crossentropy',\n",
        "             metrics=['accuracy'])"
      ],
      "execution_count": 0,
      "outputs": []
    },
    {
      "cell_type": "code",
      "metadata": {
        "id": "UxfwqBs1llHq",
        "colab_type": "code",
        "colab": {
          "base_uri": "https://localhost:8080/",
          "height": 1000
        },
        "outputId": "3d58cadd-ab71-49c8-93e3-9b2ba6ef6906"
      },
      "source": [
        "model.fit(train_images, train_labels, epochs=30)"
      ],
      "execution_count": 22,
      "outputs": [
        {
          "output_type": "stream",
          "text": [
            "Train on 60000 samples\n",
            "Epoch 1/30\n",
            "60000/60000 [==============================] - 4s 73us/sample - loss: 1.8962 - accuracy: 0.4216\n",
            "Epoch 2/30\n",
            "60000/60000 [==============================] - 4s 71us/sample - loss: 1.8455 - accuracy: 0.4315\n",
            "Epoch 3/30\n",
            "60000/60000 [==============================] - 4s 69us/sample - loss: 1.7977 - accuracy: 0.4515\n",
            "Epoch 4/30\n",
            "60000/60000 [==============================] - 4s 69us/sample - loss: 1.7525 - accuracy: 0.4523\n",
            "Epoch 5/30\n",
            "60000/60000 [==============================] - 4s 70us/sample - loss: 1.7096 - accuracy: 0.4628\n",
            "Epoch 6/30\n",
            "60000/60000 [==============================] - 4s 72us/sample - loss: 1.6689 - accuracy: 0.4713\n",
            "Epoch 7/30\n",
            "60000/60000 [==============================] - 4s 75us/sample - loss: 1.6307 - accuracy: 0.4721\n",
            "Epoch 8/30\n",
            "60000/60000 [==============================] - 4s 72us/sample - loss: 1.5944 - accuracy: 0.4720\n",
            "Epoch 9/30\n",
            "60000/60000 [==============================] - 4s 71us/sample - loss: 1.5603 - accuracy: 0.4802\n",
            "Epoch 10/30\n",
            "60000/60000 [==============================] - 4s 73us/sample - loss: 1.5283 - accuracy: 0.4787\n",
            "Epoch 11/30\n",
            "60000/60000 [==============================] - 4s 71us/sample - loss: 1.4986 - accuracy: 0.4863\n",
            "Epoch 12/30\n",
            "60000/60000 [==============================] - 4s 71us/sample - loss: 1.4712 - accuracy: 0.4892\n",
            "Epoch 13/30\n",
            "60000/60000 [==============================] - 5s 77us/sample - loss: 1.4456 - accuracy: 0.4935\n",
            "Epoch 14/30\n",
            "60000/60000 [==============================] - 5s 82us/sample - loss: 1.4221 - accuracy: 0.4943\n",
            "Epoch 15/30\n",
            "60000/60000 [==============================] - 5s 75us/sample - loss: 1.4001 - accuracy: 0.4998\n",
            "Epoch 16/30\n",
            "60000/60000 [==============================] - 4s 72us/sample - loss: 1.3797 - accuracy: 0.5037\n",
            "Epoch 17/30\n",
            "60000/60000 [==============================] - 4s 72us/sample - loss: 1.3610 - accuracy: 0.5078\n",
            "Epoch 18/30\n",
            "60000/60000 [==============================] - 4s 72us/sample - loss: 1.3434 - accuracy: 0.5101\n",
            "Epoch 19/30\n",
            "60000/60000 [==============================] - 4s 72us/sample - loss: 1.3272 - accuracy: 0.5135\n",
            "Epoch 20/30\n",
            "60000/60000 [==============================] - 5s 76us/sample - loss: 1.3121 - accuracy: 0.5160\n",
            "Epoch 21/30\n",
            "60000/60000 [==============================] - 4s 75us/sample - loss: 1.2981 - accuracy: 0.5217\n",
            "Epoch 22/30\n",
            "60000/60000 [==============================] - 4s 73us/sample - loss: 1.2846 - accuracy: 0.5223\n",
            "Epoch 23/30\n",
            "60000/60000 [==============================] - 4s 73us/sample - loss: 1.2720 - accuracy: 0.5279\n",
            "Epoch 24/30\n",
            "60000/60000 [==============================] - 4s 70us/sample - loss: 1.2603 - accuracy: 0.5297\n",
            "Epoch 25/30\n",
            "60000/60000 [==============================] - 4s 71us/sample - loss: 1.2488 - accuracy: 0.5328\n",
            "Epoch 26/30\n",
            "60000/60000 [==============================] - 4s 71us/sample - loss: 1.2381 - accuracy: 0.5373\n",
            "Epoch 27/30\n",
            "60000/60000 [==============================] - 4s 69us/sample - loss: 1.2279 - accuracy: 0.5388\n",
            "Epoch 28/30\n",
            "60000/60000 [==============================] - 4s 73us/sample - loss: 1.2182 - accuracy: 0.5416\n",
            "Epoch 29/30\n",
            "60000/60000 [==============================] - 4s 70us/sample - loss: 1.2089 - accuracy: 0.5447\n",
            "Epoch 30/30\n",
            "60000/60000 [==============================] - 4s 70us/sample - loss: 1.2000 - accuracy: 0.5500\n"
          ],
          "name": "stdout"
        },
        {
          "output_type": "execute_result",
          "data": {
            "text/plain": [
              "<tensorflow.python.keras.callbacks.History at 0x7f06abacffd0>"
            ]
          },
          "metadata": {
            "tags": []
          },
          "execution_count": 22
        }
      ]
    },
    {
      "cell_type": "code",
      "metadata": {
        "id": "GPrZR5N8nBQC",
        "colab_type": "code",
        "colab": {
          "base_uri": "https://localhost:8080/",
          "height": 67
        },
        "outputId": "06c11716-a32e-4209-9bae-fd7a079def9d"
      },
      "source": [
        "test_loss, test_acc= model.evaluate(test_images,test_labels)\n",
        "print('\\nTest accuracy:',test_acc)"
      ],
      "execution_count": 23,
      "outputs": [
        {
          "output_type": "stream",
          "text": [
            "10000/10000 [==============================] - 0s 46us/sample - loss: 1.1944 - accuracy: 0.5424\n",
            "\n",
            "Test accuracy: 0.5424\n"
          ],
          "name": "stdout"
        }
      ]
    },
    {
      "cell_type": "code",
      "metadata": {
        "id": "NwfzECQcnjep",
        "colab_type": "code",
        "colab": {}
      },
      "source": [
        "predictions= model.predict(test_images)"
      ],
      "execution_count": 0,
      "outputs": []
    },
    {
      "cell_type": "code",
      "metadata": {
        "id": "Gpby1bQ1nuQB",
        "colab_type": "code",
        "colab": {
          "base_uri": "https://localhost:8080/",
          "height": 67
        },
        "outputId": "f6abd245-197e-4bd6-9245-d609cc479f55"
      },
      "source": [
        "predictions[0]"
      ],
      "execution_count": 25,
      "outputs": [
        {
          "output_type": "execute_result",
          "data": {
            "text/plain": [
              "array([3.1621460e-04, 3.2998304e-04, 2.1156832e-03, 5.7855865e-04,\n",
              "       1.3248753e-03, 2.5736412e-01, 2.8192664e-03, 4.5456699e-01,\n",
              "       4.4998117e-02, 2.3558621e-01], dtype=float32)"
            ]
          },
          "metadata": {
            "tags": []
          },
          "execution_count": 25
        }
      ]
    },
    {
      "cell_type": "code",
      "metadata": {
        "id": "oA3UjxjVn_zZ",
        "colab_type": "code",
        "colab": {
          "base_uri": "https://localhost:8080/",
          "height": 34
        },
        "outputId": "b5c229ea-5b07-4176-fe7b-35a230a2e5fd"
      },
      "source": [
        "np.argmax(predictions[0])"
      ],
      "execution_count": 26,
      "outputs": [
        {
          "output_type": "execute_result",
          "data": {
            "text/plain": [
              "7"
            ]
          },
          "metadata": {
            "tags": []
          },
          "execution_count": 26
        }
      ]
    },
    {
      "cell_type": "code",
      "metadata": {
        "id": "2F30-u_HoFaw",
        "colab_type": "code",
        "colab": {
          "base_uri": "https://localhost:8080/",
          "height": 34
        },
        "outputId": "20e4066e-0e35-43fc-8167-6a3aaa81fc10"
      },
      "source": [
        "test_labels[0]"
      ],
      "execution_count": 27,
      "outputs": [
        {
          "output_type": "execute_result",
          "data": {
            "text/plain": [
              "9"
            ]
          },
          "metadata": {
            "tags": []
          },
          "execution_count": 27
        }
      ]
    }
  ]
}